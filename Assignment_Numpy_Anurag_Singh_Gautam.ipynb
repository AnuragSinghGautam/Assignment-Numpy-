{
  "nbformat": 4,
  "nbformat_minor": 0,
  "metadata": {
    "colab": {
      "provenance": []
    },
    "kernelspec": {
      "name": "python3",
      "display_name": "Python 3"
    },
    "language_info": {
      "name": "python"
    }
  },
  "cells": [
    {
      "cell_type": "markdown",
      "source": [
        "# **Theoretical Questions:**\n",
        "\n",
        "**1. Explain the purpose and advantages of NumPy in scientific computing and data analysis. How does it enhance Python's capabilities for numerical operations?**\n",
        "\n",
        "**Ans.**\n",
        "\n",
        "NumPy is a Python package for scientific computing that supports large, multi-dimensional arrays and matrices, offering mathematical functions for operations on these arrays. Its key advantages include efficient storage, faster array operations due to its C implementation, support for element-wise operations, broadcasting, and vectorization, and easy integration with various data science and machine learning libraries like Pandas, SciPy, and TensorFlow. NumPy's homogeneous nature ensures efficient storage and faster operations, making it a valuable tool for scientific computing.\n",
        "\n",
        "___\n",
        "\n"
      ],
      "metadata": {
        "id": "_VuCoLhU3DG5"
      }
    },
    {
      "cell_type": "markdown",
      "source": [
        "**2. Compare and contrast np.mean() and np.average() functions in NumPy. When would you use one over the other?**\n",
        "\n",
        "**Ans.**\n",
        "\n",
        "The np.mean() function calculates the arithmetic mean of array elements, while the np.average() function calculates the weighted average, allowing for weights to influence each element's contribution to the final average.\n",
        "\n",
        "**Example:**\n"
      ],
      "metadata": {
        "id": "4X08ojc24Tiz"
      }
    },
    {
      "cell_type": "code",
      "source": [
        "import numpy as np\n",
        "\n",
        "arr = np.array([1, 2, 3, 4])\n",
        "\n",
        "# Simple mean\n",
        "mean_val = np.mean(arr)\n",
        "print(\"Mean: \", mean_val)\n",
        "\n",
        "# Weighted average\n",
        "weights = np.array([1, 1, 1, 4])\n",
        "average_val = np.average(arr, weights=weights)\n",
        "print(\"Average: \",average_val)"
      ],
      "metadata": {
        "colab": {
          "base_uri": "https://localhost:8080/"
        },
        "id": "dp2DUGRE4dYJ",
        "outputId": "fb471960-ead1-44a3-84e5-31142faef8be"
      },
      "execution_count": null,
      "outputs": [
        {
          "output_type": "stream",
          "name": "stdout",
          "text": [
            "Mean:  2.5\n",
            "Average:  3.142857142857143\n"
          ]
        }
      ]
    },
    {
      "cell_type": "markdown",
      "source": [
        "___\n",
        "\n",
        "**3. Describe the methods for reversing a NumPy array along different axes. Provide examples for 1D and 2D arrays.**\n",
        "\n",
        "**Ans.**\n",
        "\n",
        "**1D Array:**\n"
      ],
      "metadata": {
        "id": "erZ3DDTr5IH1"
      }
    },
    {
      "cell_type": "code",
      "source": [
        "arr_1d = np.array([1, 2, 3, 4])\n",
        "reversed_1d = arr_1d[::-1]\n",
        "print(\"Reversed 1D Array:\", reversed_1d)\n"
      ],
      "metadata": {
        "colab": {
          "base_uri": "https://localhost:8080/"
        },
        "id": "8LMHKm4U5cMA",
        "outputId": "7421ee38-d2ad-4097-9047-1f09edf32fb3"
      },
      "execution_count": null,
      "outputs": [
        {
          "output_type": "stream",
          "name": "stdout",
          "text": [
            "Reversed 1D Array: [4 3 2 1]\n"
          ]
        }
      ]
    },
    {
      "cell_type": "markdown",
      "source": [
        "**2D Array:**"
      ],
      "metadata": {
        "id": "i3wQ7wKz5kIC"
      }
    },
    {
      "cell_type": "code",
      "source": [
        "arr_2d = np.array([[1, 2], [3, 4], [5, 6]])\n",
        "reversed_rows = arr_2d[::-1, :] #reversed rows\n",
        "reversed_columns = arr_2d[:, ::-1] #reversed columns\n",
        "print(\"Reversed Rows:\\n\", reversed_rows)\n",
        "print(\"Reversed Columns:\\n\", reversed_columns)\n"
      ],
      "metadata": {
        "colab": {
          "base_uri": "https://localhost:8080/"
        },
        "id": "QuZyAp5f5mup",
        "outputId": "b831173a-b88b-41ee-a2df-e91caf1104ac"
      },
      "execution_count": null,
      "outputs": [
        {
          "output_type": "stream",
          "name": "stdout",
          "text": [
            "Reversed Rows:\n",
            " [[5 6]\n",
            " [3 4]\n",
            " [1 2]]\n",
            "Reversed Columns:\n",
            " [[2 1]\n",
            " [4 3]\n",
            " [6 5]]\n"
          ]
        }
      ]
    },
    {
      "cell_type": "markdown",
      "source": [
        "___\n",
        "\n",
        "**4. How can you determine the data type of elements in a NumPy array? Discuss the importance of data types in memory management and performance.**\n",
        "\n",
        "**Ans.**\n",
        "The dtype attribute in NumPy arrays indicates the data type of elements, which determines memory usage and operations. Proper data type optimization can improve performance, particularly with large arrays, making it crucial for efficient data management.\n",
        "\n",
        "Data types are crucial in memory management and performance in computing, especially when working with large datasets or performing computationally intensive tasks. In Python and NumPy, each data type corresponds to a specific amount of memory. Integers, such as int8, take 1 byte per element, while int32, int32, and int64 take 4 and 8 bytes per element, respectively. Floats, like float32, take 4 and 8 bytes per element. By choosing the appropriate data type, you can optimize memory usage, such as using int8 instead of int32 or int64 for large datasets.\n",
        "\n",
        "Data types significantly impact the performance of operations on arrays, with smaller data types resulting in faster computations due to less data movement between memory and the processor. This is especially important in large-scale numerical computations like scientific computing, machine learning, and data analysis. Additionally, smaller data types enable more elements to be processed in parallel within the CPU's registers, resulting in faster execution in vectorization and SIMD (Single Instruction, Multiple Data) applications."
      ],
      "metadata": {
        "id": "NIyHqZG054OS"
      }
    },
    {
      "cell_type": "markdown",
      "source": [
        "___\n",
        "# **5. Define ndarrays in NumPy and explain their key features. How do they differ from standard Python lists?**\n",
        "\n",
        "**Ans.**\n",
        "\n",
        "NumPy's ndarray is a fixed-size, homogeneous N-dimensional array with efficient element-wise operations and broadcasting. Its memory efficiency is higher than Python lists due to homogeneous types, and its performance is faster due to optimized C-based computations. Ndarrays support a wide range of mathematical operations natively.\n"
      ],
      "metadata": {
        "id": "Kc62Jw6S6k6p"
      }
    },
    {
      "cell_type": "markdown",
      "source": [],
      "metadata": {
        "id": "e5H0_KzA8VV6"
      }
    },
    {
      "cell_type": "code",
      "source": [
        "arr = np.array([[1, 2, 3], [4, 5, 6]])\n",
        "print(arr)"
      ],
      "metadata": {
        "colab": {
          "base_uri": "https://localhost:8080/"
        },
        "id": "LTCbRpnM6yDH",
        "outputId": "1e935a4c-50c3-4875-fc8d-191313f9f661"
      },
      "execution_count": null,
      "outputs": [
        {
          "output_type": "stream",
          "name": "stdout",
          "text": [
            "[[1 2 3]\n",
            " [4 5 6]]\n"
          ]
        }
      ]
    },
    {
      "cell_type": "markdown",
      "source": [
        "___\n",
        "# **6. Analyze the performance benefits of NumPy arrays over Python lists for large-scale numerical operations.**\n",
        "\n",
        "Ans.\n",
        "\n",
        "NumPy arrays are more efficient than Python lists due to their single memory block usage and vectorized operations, which allow operations on entire arrays without loops, resulting in significant speedups.\n"
      ],
      "metadata": {
        "id": "_mX5cSZA8b9J"
      }
    },
    {
      "cell_type": "code",
      "source": [
        "import numpy as np\n",
        "import time\n",
        "\n",
        "# Large data\n",
        "size = int(1e6)\n",
        "list_data = list(range(size))\n",
        "array_data = np.arange(size)\n",
        "\n",
        "# Time operation on list\n",
        "start_time = time.time()\n",
        "list_sum = sum(list_data)\n",
        "list_time = time.time() - start_time\n",
        "\n",
        "# Time operation on NumPy array\n",
        "start_time = time.time()\n",
        "array_sum = np.sum(array_data)\n",
        "array_time = time.time() - start_time\n",
        "\n",
        "print(f\"List time: {list_time}, NumPy array time: {array_time}\")\n"
      ],
      "metadata": {
        "colab": {
          "base_uri": "https://localhost:8080/"
        },
        "id": "Uvs6LZmv8uCp",
        "outputId": "3b7b367e-2d59-4a5f-f48f-304481bfef9e"
      },
      "execution_count": 1,
      "outputs": [
        {
          "output_type": "stream",
          "name": "stdout",
          "text": [
            "List time: 0.011570453643798828, NumPy array time: 0.004550933837890625\n"
          ]
        }
      ]
    },
    {
      "cell_type": "markdown",
      "source": [
        "___\n",
        "# **7. Compare vstack() and hstack() functions in NumPy. Provide examples demonstrating their usage and output.**\n",
        "\n",
        "Ans.\n",
        "\n",
        "The vstack() function stacks arrays vertically by appending rows, while the hstack() function stacks arrays horizontally by appending columns, resulting in a larger array.\n",
        "\n",
        "Example:\n",
        "\n"
      ],
      "metadata": {
        "id": "-dFMq4eT8-BN"
      }
    },
    {
      "cell_type": "code",
      "source": [
        "arr1 = np.array([1, 2, 3])\n",
        "arr2 = np.array([4, 5, 6])\n",
        "\n",
        "# Vertical stack\n",
        "v_stacked = np.vstack((arr1, arr2))\n",
        "print(\"Vertical Stack: \",v_stacked)\n",
        "print(\"\\n\")\n",
        "\n",
        "# Horizontal stack\n",
        "h_stacked = np.hstack((arr1, arr2))\n",
        "print(\"Horizontal Stack: \",h_stacked)\n"
      ],
      "metadata": {
        "colab": {
          "base_uri": "https://localhost:8080/"
        },
        "id": "SWMvBvHH9TuA",
        "outputId": "80fc0f06-7e75-44f3-afaf-9b6f2224d367"
      },
      "execution_count": 3,
      "outputs": [
        {
          "output_type": "stream",
          "name": "stdout",
          "text": [
            "Vertical Stack:  [[1 2 3]\n",
            " [4 5 6]]\n",
            "\n",
            "\n",
            "Horizontal Stack:  [1 2 3 4 5 6]\n"
          ]
        }
      ]
    },
    {
      "cell_type": "markdown",
      "source": [
        "___\n",
        "# **8. Explain the differences between fliplr() and flipud() methods in NumPy, including their effects on various array dimensions.**\n",
        "\n",
        "Ans.\n",
        "\n",
        "Fliplr() and flipud() are functions that flip an array left to right along the horizontal axis and upside down along the vertical axis respectively."
      ],
      "metadata": {
        "id": "7LYtFSOm9qk4"
      }
    },
    {
      "cell_type": "code",
      "source": [
        "arr = np.array([[1, 2, 3], [4, 5, 6], [7, 8, 9]])\n",
        "\n",
        "# Fliplr (left to right)\n",
        "flipped_lr = np.fliplr(arr)\n",
        "print(flipped_lr)\n",
        "print(\"\\n\")\n",
        "# Flipud (upside down)\n",
        "flipped_ud = np.flipud(arr)\n",
        "print(flipped_ud)\n"
      ],
      "metadata": {
        "colab": {
          "base_uri": "https://localhost:8080/"
        },
        "id": "sLLKY0kR93Ey",
        "outputId": "b075593c-7c03-4909-da3f-f1d37e890440"
      },
      "execution_count": 5,
      "outputs": [
        {
          "output_type": "stream",
          "name": "stdout",
          "text": [
            "[[3 2 1]\n",
            " [6 5 4]\n",
            " [9 8 7]]\n",
            "\n",
            "\n",
            "[[7 8 9]\n",
            " [4 5 6]\n",
            " [1 2 3]]\n"
          ]
        }
      ]
    },
    {
      "cell_type": "markdown",
      "source": [
        "___\n",
        "# **9. Discuss the functionality of the array_split() method in NumPy. How does it handle uneven splits?**\n",
        "\n",
        "Ans.\n",
        "\n",
        "NumPy's array_split() method splits an array into multiple sub-arrays, distributing the remainder evenly, ensuring all sub-arrays have nearly equal sizes."
      ],
      "metadata": {
        "id": "_eBxhFz7-FLr"
      }
    },
    {
      "cell_type": "code",
      "source": [
        "arr = np.array([1, 2, 3, 4, 5])\n",
        "\n",
        "# Split into 3 parts\n",
        "split_arr = np.array_split(arr, 3)\n",
        "print(split_arr)\n"
      ],
      "metadata": {
        "colab": {
          "base_uri": "https://localhost:8080/"
        },
        "id": "RVOHcO4T-OOV",
        "outputId": "d3c33d2b-b027-49ce-ebd0-13dfc2845c42"
      },
      "execution_count": 6,
      "outputs": [
        {
          "output_type": "stream",
          "name": "stdout",
          "text": [
            "[array([1, 2]), array([3, 4]), array([5])]\n"
          ]
        }
      ]
    },
    {
      "cell_type": "markdown",
      "source": [
        "___\n",
        "# **10. Explain the concepts of vectorization and broadcasting in NumPy. How do they contribute to efficient array operations**\n",
        "\n",
        "Ans.\n",
        "\n",
        "Vectorization and broadcasting are two programming techniques that simplify and speed up code by applying operations to entire arrays and automatically expanding them to a common shape without data copying."
      ],
      "metadata": {
        "id": "pwMJFwRm-cBf"
      }
    },
    {
      "cell_type": "code",
      "source": [
        "arr1 = np.array([1, 2, 3])\n",
        "arr2 = np.array([4, 5, 6])\n",
        "\n",
        "# Vectorized addition (element-wise)\n",
        "sum_arr = arr1 + arr2\n",
        "print(sum_arr)\n",
        "\n",
        "# Broadcasting: adding a scalar to an array\n",
        "scalar = 10\n",
        "result = arr1 + scalar\n",
        "print(result)\n"
      ],
      "metadata": {
        "colab": {
          "base_uri": "https://localhost:8080/"
        },
        "id": "Dqi9-emL-odh",
        "outputId": "5770dc21-8ea2-47c7-8674-e1dddbf54295"
      },
      "execution_count": 7,
      "outputs": [
        {
          "output_type": "stream",
          "name": "stdout",
          "text": [
            "[5 7 9]\n",
            "[11 12 13]\n"
          ]
        }
      ]
    },
    {
      "cell_type": "markdown",
      "source": [
        "# **Practical Questions:**"
      ],
      "metadata": {
        "id": "2pPIvSSk-znJ"
      }
    },
    {
      "cell_type": "markdown",
      "source": [
        "___\n",
        "# **1. Create a 3x3 NumPy array with random integers between 1 and 100. Then, interchange its rows and columns.**"
      ],
      "metadata": {
        "id": "h-nbmbKm-4HP"
      }
    },
    {
      "cell_type": "code",
      "source": [
        "import numpy as np\n",
        "import random\n",
        "arr=np.random.randint(1,100,size=(3,3))\n",
        "print(arr)\n",
        "print(\"The interchanged rows and columns are: \\n\")\n",
        "print(arr.T)"
      ],
      "metadata": {
        "colab": {
          "base_uri": "https://localhost:8080/"
        },
        "id": "ADTdc9PlA8y4",
        "outputId": "21bb003b-0d81-49a4-f00d-c5c978c8687d"
      },
      "execution_count": 9,
      "outputs": [
        {
          "output_type": "stream",
          "name": "stdout",
          "text": [
            "[[79 15 65]\n",
            " [42 14 43]\n",
            " [ 2 72 73]]\n",
            "The interchanged rows and columns are: \n",
            "\n",
            "[[79 42  2]\n",
            " [15 14 72]\n",
            " [65 43 73]]\n"
          ]
        }
      ]
    },
    {
      "cell_type": "markdown",
      "source": [
        "# **2. Generate a 1D NumPy array with 10 elements. Reshape it into a 2x5 array, then into a 5x2 array**"
      ],
      "metadata": {
        "id": "cMxfZJqiBg9p"
      }
    },
    {
      "cell_type": "code",
      "source": [
        "import numpy as np\n",
        "import random\n",
        "arr=np.arange(10)\n",
        "print(arr)\n",
        "print(\"The reshaped 2x5 array is: \\n\")\n",
        "print(arr.reshape(2,5))\n",
        "print(\"\\n\")\n",
        "print(\"The reshaped 5x2 array is: \\n\")\n",
        "print(arr.reshape(5,2))"
      ],
      "metadata": {
        "colab": {
          "base_uri": "https://localhost:8080/"
        },
        "id": "7AhyMI31Bj8g",
        "outputId": "8283a89e-8a6f-4f28-ef7f-2c481977b48c"
      },
      "execution_count": 13,
      "outputs": [
        {
          "output_type": "stream",
          "name": "stdout",
          "text": [
            "[0 1 2 3 4 5 6 7 8 9]\n",
            "The reshaped 2x5 array is: \n",
            "\n",
            "[[0 1 2 3 4]\n",
            " [5 6 7 8 9]]\n",
            "\n",
            "\n",
            "The reshaped 5x2 array is: \n",
            "\n",
            "[[0 1]\n",
            " [2 3]\n",
            " [4 5]\n",
            " [6 7]\n",
            " [8 9]]\n"
          ]
        }
      ]
    },
    {
      "cell_type": "markdown",
      "source": [
        "# **3. Create a 4x4 NumPy array with random float values. Add a border of zeros around it, resulting in a 6x6 array.**"
      ],
      "metadata": {
        "id": "RUC9ynOwCVB-"
      }
    },
    {
      "cell_type": "code",
      "source": [
        "import numpy as np\n",
        "arr_4x4 = np.random.rand(4, 4)\n",
        "\n",
        "arr_6x6 = np.pad(arr_4x4, pad_width=1, mode='constant', constant_values=0)\n",
        "\n",
        "print(\"4x4 Array with Random Float Values:\")\n",
        "print(arr_4x4)\n",
        "print(\"\\n6x6 Array with Border of Zeros:\")\n",
        "print(arr_6x6)\n"
      ],
      "metadata": {
        "colab": {
          "base_uri": "https://localhost:8080/"
        },
        "id": "rnU9TAyxCW3N",
        "outputId": "49de9943-b953-46d0-9906-57684eaef717"
      },
      "execution_count": 14,
      "outputs": [
        {
          "output_type": "stream",
          "name": "stdout",
          "text": [
            "4x4 Array with Random Float Values:\n",
            "[[0.3776494  0.29218305 0.93011009 0.74779416]\n",
            " [0.50659868 0.73493712 0.92152965 0.48232729]\n",
            " [0.05988615 0.01512269 0.22257271 0.52566745]\n",
            " [0.50688853 0.3751437  0.16093827 0.1764903 ]]\n",
            "\n",
            "6x6 Array with Border of Zeros:\n",
            "[[0.         0.         0.         0.         0.         0.        ]\n",
            " [0.         0.3776494  0.29218305 0.93011009 0.74779416 0.        ]\n",
            " [0.         0.50659868 0.73493712 0.92152965 0.48232729 0.        ]\n",
            " [0.         0.05988615 0.01512269 0.22257271 0.52566745 0.        ]\n",
            " [0.         0.50688853 0.3751437  0.16093827 0.1764903  0.        ]\n",
            " [0.         0.         0.         0.         0.         0.        ]]\n"
          ]
        }
      ]
    },
    {
      "cell_type": "markdown",
      "source": [
        "# **4. Using NumPy, create an array of integers from 10 to 60 with a step of 5**"
      ],
      "metadata": {
        "id": "4vHE3sKhC3xb"
      }
    },
    {
      "cell_type": "code",
      "source": [
        "import numpy as np\n",
        "arr=np.arange(10,60,5)\n",
        "print(arr)"
      ],
      "metadata": {
        "colab": {
          "base_uri": "https://localhost:8080/"
        },
        "id": "OWOkJHZEC9Cj",
        "outputId": "6a475330-cf2e-4ed6-831e-2289473a0245"
      },
      "execution_count": 15,
      "outputs": [
        {
          "output_type": "stream",
          "name": "stdout",
          "text": [
            "[10 15 20 25 30 35 40 45 50 55]\n"
          ]
        }
      ]
    },
    {
      "cell_type": "markdown",
      "source": [
        "# **5. Create a NumPy array of strings ['python', 'numpy', 'pandas']. Apply different case transformations(uppercase, lowercase, title case, etc.) to each element.**"
      ],
      "metadata": {
        "id": "BsKbTBlZDDsq"
      }
    },
    {
      "cell_type": "code",
      "source": [
        "import numpy as np\n",
        "arr=np.array(['python', 'numpy', 'pandas'])\n",
        "print(arr)\n",
        "print(\"The uppercase array is: \\n\")\n",
        "print(np.char.upper(arr))\n",
        "print(\"\\n\")\n",
        "print(\"The lowercase array is: \\n\")\n",
        "print(np.char.lower(arr))\n",
        "print(\"\\n\")\n",
        "print(\"The titlecase array is: \\n\")\n",
        "print(np.char.title(arr))"
      ],
      "metadata": {
        "colab": {
          "base_uri": "https://localhost:8080/"
        },
        "id": "qp5V4sgZDG-E",
        "outputId": "acbb15ea-043f-4608-f917-bf74c3dabd63"
      },
      "execution_count": 17,
      "outputs": [
        {
          "output_type": "stream",
          "name": "stdout",
          "text": [
            "['python' 'numpy' 'pandas']\n",
            "The uppercase array is: \n",
            "\n",
            "['PYTHON' 'NUMPY' 'PANDAS']\n",
            "\n",
            "\n",
            "The lowercase array is: \n",
            "\n",
            "['python' 'numpy' 'pandas']\n",
            "\n",
            "\n",
            "The titlecase array is: \n",
            "\n",
            "['Python' 'Numpy' 'Pandas']\n"
          ]
        }
      ]
    },
    {
      "cell_type": "markdown",
      "source": [
        "# **6. Generate a NumPy array of words. Insert a space between each character of every word in the array**"
      ],
      "metadata": {
        "id": "rt4EwJgxDWum"
      }
    },
    {
      "cell_type": "code",
      "source": [
        "import numpy as np\n",
        "\n",
        "words = np.array(['apple', 'banana', 'cherry'])\n",
        "spaced_words = np.char.join(' ', words)\n",
        "\n",
        "print(spaced_words)"
      ],
      "metadata": {
        "colab": {
          "base_uri": "https://localhost:8080/"
        },
        "id": "3Odx_06oDY-H",
        "outputId": "b7dabbe6-d84a-4e26-a40c-55e49ecaefbd"
      },
      "execution_count": 18,
      "outputs": [
        {
          "output_type": "stream",
          "name": "stdout",
          "text": [
            "['a p p l e' 'b a n a n a' 'c h e r r y']\n"
          ]
        }
      ]
    },
    {
      "cell_type": "markdown",
      "source": [
        "# **7. Create two 2D NumPy arrays and perform element-wise addition, subtraction, multiplication, and division.**"
      ],
      "metadata": {
        "id": "VefS5jSKDqi2"
      }
    },
    {
      "cell_type": "code",
      "source": [
        "import numpy as np\n",
        "import random\n",
        "arr=np.random.randint(1,100,size=(2,2))\n",
        "arr1=np.random.randint(1,100,size=(2,2))\n",
        "print(arr)\n",
        "print(\"\\n\")\n",
        "print(arr1)\n",
        "print(\"\\n\")\n",
        "print(\"The element-wise addition is: \\n\")\n",
        "print(np.add(arr,arr1))\n",
        "print(\"\\n\")\n",
        "print(\"The element-wise subtraction is: \\n\")\n",
        "print(np.subtract(arr,arr1))\n",
        "print(\"\\n\")\n",
        "print(\"The element-wise multiplication is: \\n\")\n",
        "print(np.multiply(arr,arr1))\n",
        "print(\"\\n\")\n",
        "print(\"The element-wise division is: \\n\")\n",
        "print(np.divide(arr,arr1))\n",
        "\n"
      ],
      "metadata": {
        "colab": {
          "base_uri": "https://localhost:8080/"
        },
        "id": "9VO3ky0aDsk-",
        "outputId": "07544f5b-26c1-45a2-91b0-99acc9b7b138"
      },
      "execution_count": 19,
      "outputs": [
        {
          "output_type": "stream",
          "name": "stdout",
          "text": [
            "[[44 26]\n",
            " [23 89]]\n",
            "\n",
            "\n",
            "[[97 94]\n",
            " [71 93]]\n",
            "\n",
            "\n",
            "The element-wise addition is: \n",
            "\n",
            "[[141 120]\n",
            " [ 94 182]]\n",
            "\n",
            "\n",
            "The element-wise subtraction is: \n",
            "\n",
            "[[-53 -68]\n",
            " [-48  -4]]\n",
            "\n",
            "\n",
            "The element-wise multiplication is: \n",
            "\n",
            "[[4268 2444]\n",
            " [1633 8277]]\n",
            "\n",
            "\n",
            "The element-wise division is: \n",
            "\n",
            "[[0.45360825 0.27659574]\n",
            " [0.32394366 0.95698925]]\n"
          ]
        }
      ]
    },
    {
      "cell_type": "markdown",
      "source": [
        "# **8. Use NumPy to create a 5x5 identity matrix, then extract its diagonal elements.**\n"
      ],
      "metadata": {
        "id": "_UMtn0zsEP0h"
      }
    },
    {
      "cell_type": "code",
      "source": [
        "import numpy as np\n",
        "arr=np.identity(5)\n",
        "print(arr)\n",
        "print(\"\\n\")\n",
        "print(\"The diagonal elements are: \\n\")\n",
        "print(np.diag(arr))"
      ],
      "metadata": {
        "colab": {
          "base_uri": "https://localhost:8080/"
        },
        "id": "7-QJCo5jEX6U",
        "outputId": "d6627d1f-8f29-4cd9-a372-a273c32b62d2"
      },
      "execution_count": 20,
      "outputs": [
        {
          "output_type": "stream",
          "name": "stdout",
          "text": [
            "[[1. 0. 0. 0. 0.]\n",
            " [0. 1. 0. 0. 0.]\n",
            " [0. 0. 1. 0. 0.]\n",
            " [0. 0. 0. 1. 0.]\n",
            " [0. 0. 0. 0. 1.]]\n",
            "\n",
            "\n",
            "The diagonal elements are: \n",
            "\n",
            "[1. 1. 1. 1. 1.]\n"
          ]
        }
      ]
    },
    {
      "cell_type": "markdown",
      "source": [
        "# **9. Generate a NumPy array of 100 random integers between 0 and 1000. Find and display all prime numbers inthis array.**"
      ],
      "metadata": {
        "id": "gv0ojnqQEeiD"
      }
    },
    {
      "cell_type": "code",
      "source": [
        "import numpy as np\n",
        "arr=np.random.randint(0,1000,size=(100))\n",
        "print(arr)\n",
        "print(\"\\n\")\n",
        "print(\"The prime numbers are: \\n\")\n",
        "for i in arr:\n",
        "  if i>1:\n",
        "    for j in range(2,i):\n",
        "      if i%j==0:\n",
        "        break\n",
        "    else:\n",
        "      print(i)"
      ],
      "metadata": {
        "colab": {
          "base_uri": "https://localhost:8080/"
        },
        "id": "TOCypsvTEhUM",
        "outputId": "db2237ce-dc86-43bc-9308-c02d2fd66f03"
      },
      "execution_count": 21,
      "outputs": [
        {
          "output_type": "stream",
          "name": "stdout",
          "text": [
            "[339 529 951 938 467 340 403  90 754 327 466 848 248 321 601 813 144 422\n",
            " 578 214 855 287 835  70 846 175 765 217 695  14  61 243 479 316 198 210\n",
            " 476 877 772 417 245 693 737  24 500 853 566 696 360 658 825 152 791 690\n",
            "  18 816 643 143 539 721 603 880  72  60 525 566 953 976 627 150  74 199\n",
            " 995 993 832 913 599 425 603 161 460 666 637 484 823 852 883 812 903 435\n",
            " 405 253 851 735 585 757 119 573 503  55]\n",
            "\n",
            "\n",
            "The prime numbers are: \n",
            "\n",
            "467\n",
            "601\n",
            "61\n",
            "479\n",
            "877\n",
            "853\n",
            "643\n",
            "953\n",
            "199\n",
            "599\n",
            "823\n",
            "883\n",
            "757\n",
            "503\n"
          ]
        }
      ]
    },
    {
      "cell_type": "markdown",
      "source": [
        "# **10. Create a NumPy array representing daily temperatures for a month. Calculate and display the weekly averages.**"
      ],
      "metadata": {
        "id": "z0Uo4JXIE0RV"
      }
    },
    {
      "cell_type": "code",
      "source": [
        "import numpy as np\n",
        "arr=np.random.randint(0,100,size=(30))\n",
        "print(arr)\n",
        "print(\"\\n\")\n",
        "print(\"The weekly averages are: \\n\")\n",
        "print(np.mean(arr))\n"
      ],
      "metadata": {
        "colab": {
          "base_uri": "https://localhost:8080/"
        },
        "id": "q32qTmFGE3TA",
        "outputId": "bef85fd9-6285-4cef-b21d-794b15e56f24"
      },
      "execution_count": 22,
      "outputs": [
        {
          "output_type": "stream",
          "name": "stdout",
          "text": [
            "[63 57 40 10 54 92 26  2 13 97 61 57 45 30 76 24 76 85 54 75 19  1 58 18\n",
            " 56 47 78  3 12 69]\n",
            "\n",
            "\n",
            "The weekly averages are: \n",
            "\n",
            "46.6\n"
          ]
        }
      ]
    }
  ]
}